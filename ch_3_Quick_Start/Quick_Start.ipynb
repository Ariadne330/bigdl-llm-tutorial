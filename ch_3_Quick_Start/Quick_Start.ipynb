{
 "cells": [
  {
   "attachments": {},
   "cell_type": "markdown",
   "metadata": {},
   "source": [
    "# Notebook 3: Quick Start\n",
    "\n",
    "This quick start notebook will help you get started with BigDL-LLM, and show you how to install, load a pretrained large language model and run it.\n",
    "\n",
    "## 3.1 Install BigDL-LLM"
   ]
  },
  {
   "cell_type": "code",
   "execution_count": null,
   "metadata": {},
   "outputs": [],
   "source": [
    "!pip install bigdl-llm[all]"
   ]
  },
  {
   "attachments": {},
   "cell_type": "markdown",
   "metadata": {},
   "source": [
    "This one-line command will install bigdl-llm with all the dependencies for common LLM application development.\n",
    "\n",
    "\n",
    "## 3.2 Load a pretrained LLM Model\n",
    "\n",
    "We're using `transformers`-style API in BigDL-LLM to load a pretrained model (i.e.`open_llama_3b` ) with INT4 optimization (by specifying `load_in_4bit=True` in `from_pretrained`):\n"
   ]
  },
  {
   "cell_type": "code",
   "execution_count": null,
   "metadata": {},
   "outputs": [],
   "source": [
    "from bigdl.llm.transformers import AutoModelForCausalLM\n",
    "\n",
    "model = AutoModelForCausalLM.from_pretrained(pretrained_model_name_or_path=\"openlm-research/open_llama_3b\",\n",
    "                                             load_in_4bit=True)"
   ]
  },
  {
   "attachments": {},
   "cell_type": "markdown",
   "metadata": {},
   "source": [
    "> **Note**\n",
    ">\n",
    "> `openlm-research/open_llama_3b` is the huggingface model id hosted on huggingface ([model link](https://huggingface.co/openlm-research/open_llama_3b)) . `from_pretrained` will automatically download the model from huggingface to a local cache path (e.g. `~/.cache/huggingface`), load the model, and converted it to BigDL-LLM INT4 format. \n",
    ">\n",
    "> It may take a long time to download the model using API. You can also download the model yourself, and specify `pretrained_model_name_or_path` parameter in `from_pretrained` with the local path of the downloaded model. This way, `from_pretrained` will load directly from local path and convert.\n",
    "\n",
    "\n",
    "### 2.3.2 Load Tokenizer\n",
    "\n",
    "The second step is to load the model's corresponding tokenizer:"
   ]
  },
  {
   "cell_type": "code",
   "execution_count": null,
   "metadata": {},
   "outputs": [],
   "source": [
    "from transformers import LlamaTokenizer\n",
    "\n",
    "tokenizer = LlamaTokenizer.from_pretrained(pretrained_model_name_or_path=\"openlm-research/open_llama_3b\")"
   ]
  },
  {
   "attachments": {},
   "cell_type": "markdown",
   "metadata": {},
   "source": [
    "### 2.3.3 Run LLM\n",
    "\n",
    "You could then conduct inference as using normal transformers API with very low latency. A Q&A dialog is created here for the model to complete:"
   ]
  },
  {
   "cell_type": "code",
   "execution_count": 3,
   "metadata": {},
   "outputs": [
    {
     "name": "stdout",
     "output_type": "stream",
     "text": [
      "Inference time: xxxx s\n",
      "-------------------- Prompt --------------------\n",
      "Q: What is AI?\n",
      "A:\n",
      "-------------------- Output --------------------\n",
      "Q: What is AI?\n",
      "A: Artificial Intelligence is the science of making machines do things that would require intelligence if done by a human.\n",
      "Q: What is the difference between AI and Machine Learning\n"
     ]
    }
   ],
   "source": [
    "import time\n",
    "import torch\n",
    "\n",
    "with torch.inference_mode():\n",
    "    prompt = 'Q: What is AI?\\nA:'\n",
    "    \n",
    "    # tokenize the input prompt from string to token ids\n",
    "    input_ids = tokenizer.encode(prompt, return_tensors=\"pt\")\n",
    "    st = time.time()\n",
    "    # predict the next tokens (maximum 32) based on the input token ids\n",
    "    output = model.generate(input_ids,\n",
    "                            max_new_tokens=32)\n",
    "    end = time.time()\n",
    "    # decode the predicted token ids to output string\n",
    "    output_str = tokenizer.decode(output[0], skip_special_tokens=True)\n",
    "    \n",
    "    print(f'Inference time: {end-st} s')\n",
    "    print('-'*20, 'Prompt', '-'*20)\n",
    "    print(prompt)\n",
    "    print('-'*20, 'Output', '-'*20)\n",
    "    print(output_str)"
   ]
  },
  {
   "attachments": {},
   "cell_type": "markdown",
   "metadata": {},
   "source": [
    "> **Note**\n",
    ">\n",
    "> `max_new_tokens` parameter in the `generate` function defines the maximum number of tokens to predict. \n",
    "\n",
    "\n",
    "## 2.4 What's Next?\n",
    "\n",
    "In the upcoming chapter, you will dive deeper into the usage of the BigDL-LLM Transformers-style API. The tutorials in the next chapter will also allow you to leverage the power of BigDL-LLM in different domains, such as speech recognition."
   ]
  }
 ],
 "metadata": {
  "kernelspec": {
   "display_name": "Python 3 (ipykernel)",
   "language": "python",
   "name": "python3"
  },
  "language_info": {
   "codemirror_mode": {
    "name": "ipython",
    "version": 3
   },
   "file_extension": ".py",
   "mimetype": "text/x-python",
   "name": "python",
   "nbconvert_exporter": "python",
   "pygments_lexer": "ipython3",
   "version": "3.9.17"
  }
 },
 "nbformat": 4,
 "nbformat_minor": 4
}
